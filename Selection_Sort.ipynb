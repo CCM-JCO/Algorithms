{
 "cells": [
  {
   "cell_type": "code",
   "execution_count": null,
   "metadata": {},
   "outputs": [],
   "source": [
    "# Selection Sort\n",
    "def small_element(arr):\n",
    "    element = arr[0]\n",
    "    element_index = 0\n",
    "    # len(arr) since starts at index 0\n",
    "    for i in range(1, len(arr)):\n",
    "        if arr[i] < element:\n",
    "            element = arr[i]\n",
    "            element_index = i\n",
    "    return element_index\n",
    "\n",
    "def selectionSort(arr):\n",
    "    sorted_array = []\n",
    "    for i in range(len(arr)):\n",
    "        element = small_element(arr)\n",
    "        sorted_array.append(arr.pop(element))\n",
    "    return sorted_array"
   ]
  },
  {
   "cell_type": "code",
   "execution_count": 2,
   "metadata": {},
   "outputs": [
    {
     "name": "stdout",
     "output_type": "stream",
     "text": [
      "[0.7316174532362973, 0.8363875721543178, 0.42432023214574366, 0.7283049857647099, 0.5470382893322109, 0.7188410418328383, 0.07692800959535695, 0.2974572132184451, 0.26497771164541106, 0.08861602634624777]\n",
      "\n",
      " [0.07692800959535695, 0.08861602634624777, 0.26497771164541106, 0.2974572132184451, 0.42432023214574366, 0.5470382893322109, 0.7188410418328383, 0.7283049857647099, 0.7316174532362973, 0.8363875721543178]\n"
     ]
    }
   ],
   "source": [
    "import numpy as np\n",
    "from numpy import random\n",
    "\n",
    "random_array = np.random.rand(10).tolist()\n",
    "print(random_array)\n",
    "\n",
    "sorted_array = selectionSort(random_array)\n",
    "print('\\n', sorted_array)"
   ]
  }
 ],
 "metadata": {
  "kernelspec": {
   "display_name": "Python 3",
   "language": "python",
   "name": "python3"
  },
  "language_info": {
   "codemirror_mode": {
    "name": "ipython",
    "version": 3
   },
   "file_extension": ".py",
   "mimetype": "text/x-python",
   "name": "python",
   "nbconvert_exporter": "python",
   "pygments_lexer": "ipython3",
   "version": "3.8.5"
  }
 },
 "nbformat": 4,
 "nbformat_minor": 4
}
